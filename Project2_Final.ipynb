{
  "nbformat": 4,
  "nbformat_minor": 0,
  "metadata": {
    "colab": {
      "name": "Project2_Final.ipynb",
      "provenance": [],
      "collapsed_sections": [],
      "authorship_tag": "ABX9TyNkjdLGXTRWDlAVqI7yLdnH",
      "include_colab_link": true
    },
    "kernelspec": {
      "name": "python3",
      "display_name": "Python 3"
    },
    "language_info": {
      "name": "python"
    }
  },
  "cells": [
    {
      "cell_type": "markdown",
      "metadata": {
        "id": "view-in-github",
        "colab_type": "text"
      },
      "source": [
        "<a href=\"https://colab.research.google.com/github/tysonjohn015/Azure_LanguageDetection/blob/main/Project2_Final.ipynb\" target=\"_parent\"><img src=\"https://colab.research.google.com/assets/colab-badge.svg\" alt=\"Open In Colab\"/></a>"
      ]
    },
    {
      "cell_type": "markdown",
      "metadata": {
        "id": "3Irzvlfhulf3"
      },
      "source": [
        "# Importing all the libraries required"
      ]
    },
    {
      "cell_type": "code",
      "metadata": {
        "id": "xzf3xywWqrbB"
      },
      "source": [
        "import numpy as np\n",
        "import pandas as pd\n",
        "import matplotlib.pyplot as plt\n",
        "import seaborn as sns"
      ],
      "execution_count": null,
      "outputs": []
    },
    {
      "cell_type": "markdown",
      "metadata": {
        "id": "zgThZaSpmJWn"
      },
      "source": [
        "# Data Loading"
      ]
    },
    {
      "cell_type": "code",
      "metadata": {
        "id": "_BMvB7X7yh7m"
      },
      "source": [
        "df_original = pd.read_csv(\"p2-arbres-fr.csv\", sep=\";\")"
      ],
      "execution_count": null,
      "outputs": []
    },
    {
      "cell_type": "markdown",
      "metadata": {
        "id": "QjMkiWL1mOUA"
      },
      "source": [
        "# Data Analysis\n",
        "\n",
        "We use different functions of Pandas to quickly analyse the data from the CSV file."
      ]
    },
    {
      "cell_type": "code",
      "metadata": {
        "colab": {
          "base_uri": "https://localhost:8080/",
          "height": 479
        },
        "id": "wlu8uynxzdIy",
        "outputId": "928982e1-ff7d-421c-a50a-b05c3b8c1121"
      },
      "source": [
        "df_original.head()"
      ],
      "execution_count": null,
      "outputs": [
        {
          "output_type": "execute_result",
          "data": {
            "text/html": [
              "<div>\n",
              "<style scoped>\n",
              "    .dataframe tbody tr th:only-of-type {\n",
              "        vertical-align: middle;\n",
              "    }\n",
              "\n",
              "    .dataframe tbody tr th {\n",
              "        vertical-align: top;\n",
              "    }\n",
              "\n",
              "    .dataframe thead th {\n",
              "        text-align: right;\n",
              "    }\n",
              "</style>\n",
              "<table border=\"1\" class=\"dataframe\">\n",
              "  <thead>\n",
              "    <tr style=\"text-align: right;\">\n",
              "      <th></th>\n",
              "      <th>id</th>\n",
              "      <th>type_emplacement</th>\n",
              "      <th>domanialite</th>\n",
              "      <th>arrondissement</th>\n",
              "      <th>complement_addresse</th>\n",
              "      <th>numero</th>\n",
              "      <th>lieu</th>\n",
              "      <th>id_emplacement</th>\n",
              "      <th>libelle_francais</th>\n",
              "      <th>genre</th>\n",
              "      <th>espece</th>\n",
              "      <th>variete</th>\n",
              "      <th>circonference_cm</th>\n",
              "      <th>hauteur_m</th>\n",
              "      <th>stade_developpement</th>\n",
              "      <th>remarquable</th>\n",
              "      <th>geo_point_2d_a</th>\n",
              "      <th>geo_point_2d_b</th>\n",
              "    </tr>\n",
              "  </thead>\n",
              "  <tbody>\n",
              "    <tr>\n",
              "      <th>0</th>\n",
              "      <td>99874</td>\n",
              "      <td>Arbre</td>\n",
              "      <td>Jardin</td>\n",
              "      <td>PARIS 7E ARRDT</td>\n",
              "      <td>NaN</td>\n",
              "      <td>NaN</td>\n",
              "      <td>MAIRIE DU 7E 116 RUE DE GRENELLE PARIS 7E</td>\n",
              "      <td>19</td>\n",
              "      <td>Marronnier</td>\n",
              "      <td>Aesculus</td>\n",
              "      <td>hippocastanum</td>\n",
              "      <td>NaN</td>\n",
              "      <td>20</td>\n",
              "      <td>5</td>\n",
              "      <td>NaN</td>\n",
              "      <td>0.0</td>\n",
              "      <td>48.857620</td>\n",
              "      <td>2.320962</td>\n",
              "    </tr>\n",
              "    <tr>\n",
              "      <th>1</th>\n",
              "      <td>99875</td>\n",
              "      <td>Arbre</td>\n",
              "      <td>Jardin</td>\n",
              "      <td>PARIS 7E ARRDT</td>\n",
              "      <td>NaN</td>\n",
              "      <td>NaN</td>\n",
              "      <td>MAIRIE DU 7E 116 RUE DE GRENELLE PARIS 7E</td>\n",
              "      <td>20</td>\n",
              "      <td>If</td>\n",
              "      <td>Taxus</td>\n",
              "      <td>baccata</td>\n",
              "      <td>NaN</td>\n",
              "      <td>65</td>\n",
              "      <td>8</td>\n",
              "      <td>A</td>\n",
              "      <td>NaN</td>\n",
              "      <td>48.857656</td>\n",
              "      <td>2.321031</td>\n",
              "    </tr>\n",
              "    <tr>\n",
              "      <th>2</th>\n",
              "      <td>99876</td>\n",
              "      <td>Arbre</td>\n",
              "      <td>Jardin</td>\n",
              "      <td>PARIS 7E ARRDT</td>\n",
              "      <td>NaN</td>\n",
              "      <td>NaN</td>\n",
              "      <td>MAIRIE DU 7E 116 RUE DE GRENELLE PARIS 7E</td>\n",
              "      <td>21</td>\n",
              "      <td>If</td>\n",
              "      <td>Taxus</td>\n",
              "      <td>baccata</td>\n",
              "      <td>NaN</td>\n",
              "      <td>90</td>\n",
              "      <td>10</td>\n",
              "      <td>A</td>\n",
              "      <td>NaN</td>\n",
              "      <td>48.857705</td>\n",
              "      <td>2.321061</td>\n",
              "    </tr>\n",
              "    <tr>\n",
              "      <th>3</th>\n",
              "      <td>99877</td>\n",
              "      <td>Arbre</td>\n",
              "      <td>Jardin</td>\n",
              "      <td>PARIS 7E ARRDT</td>\n",
              "      <td>NaN</td>\n",
              "      <td>NaN</td>\n",
              "      <td>MAIRIE DU 7E 116 RUE DE GRENELLE PARIS 7E</td>\n",
              "      <td>22</td>\n",
              "      <td>Erable</td>\n",
              "      <td>Acer</td>\n",
              "      <td>negundo</td>\n",
              "      <td>NaN</td>\n",
              "      <td>60</td>\n",
              "      <td>8</td>\n",
              "      <td>A</td>\n",
              "      <td>NaN</td>\n",
              "      <td>48.857722</td>\n",
              "      <td>2.321006</td>\n",
              "    </tr>\n",
              "    <tr>\n",
              "      <th>4</th>\n",
              "      <td>99878</td>\n",
              "      <td>Arbre</td>\n",
              "      <td>Jardin</td>\n",
              "      <td>PARIS 17E ARRDT</td>\n",
              "      <td>NaN</td>\n",
              "      <td>NaN</td>\n",
              "      <td>PARC CLICHY-BATIGNOLLES-MARTIN LUTHER KING</td>\n",
              "      <td>000G0037</td>\n",
              "      <td>Arbre à miel</td>\n",
              "      <td>Tetradium</td>\n",
              "      <td>daniellii</td>\n",
              "      <td>NaN</td>\n",
              "      <td>38</td>\n",
              "      <td>0</td>\n",
              "      <td>NaN</td>\n",
              "      <td>NaN</td>\n",
              "      <td>48.890435</td>\n",
              "      <td>2.315289</td>\n",
              "    </tr>\n",
              "  </tbody>\n",
              "</table>\n",
              "</div>"
            ],
            "text/plain": [
              "      id type_emplacement  ... geo_point_2d_a geo_point_2d_b\n",
              "0  99874            Arbre  ...      48.857620       2.320962\n",
              "1  99875            Arbre  ...      48.857656       2.321031\n",
              "2  99876            Arbre  ...      48.857705       2.321061\n",
              "3  99877            Arbre  ...      48.857722       2.321006\n",
              "4  99878            Arbre  ...      48.890435       2.315289\n",
              "\n",
              "[5 rows x 18 columns]"
            ]
          },
          "metadata": {
            "tags": []
          },
          "execution_count": 3
        }
      ]
    },
    {
      "cell_type": "code",
      "metadata": {
        "colab": {
          "base_uri": "https://localhost:8080/",
          "height": 564
        },
        "id": "C6Llf0e8uwRh",
        "outputId": "c3d2c2c5-b783-4f06-fc1f-9f1c1d99efb8"
      },
      "source": [
        "df_original.tail()"
      ],
      "execution_count": null,
      "outputs": [
        {
          "output_type": "execute_result",
          "data": {
            "text/html": [
              "<div>\n",
              "<style scoped>\n",
              "    .dataframe tbody tr th:only-of-type {\n",
              "        vertical-align: middle;\n",
              "    }\n",
              "\n",
              "    .dataframe tbody tr th {\n",
              "        vertical-align: top;\n",
              "    }\n",
              "\n",
              "    .dataframe thead th {\n",
              "        text-align: right;\n",
              "    }\n",
              "</style>\n",
              "<table border=\"1\" class=\"dataframe\">\n",
              "  <thead>\n",
              "    <tr style=\"text-align: right;\">\n",
              "      <th></th>\n",
              "      <th>id</th>\n",
              "      <th>type_emplacement</th>\n",
              "      <th>domanialite</th>\n",
              "      <th>arrondissement</th>\n",
              "      <th>complement_addresse</th>\n",
              "      <th>numero</th>\n",
              "      <th>lieu</th>\n",
              "      <th>id_emplacement</th>\n",
              "      <th>libelle_francais</th>\n",
              "      <th>genre</th>\n",
              "      <th>espece</th>\n",
              "      <th>variete</th>\n",
              "      <th>circonference_cm</th>\n",
              "      <th>hauteur_m</th>\n",
              "      <th>stade_developpement</th>\n",
              "      <th>remarquable</th>\n",
              "      <th>geo_point_2d_a</th>\n",
              "      <th>geo_point_2d_b</th>\n",
              "    </tr>\n",
              "  </thead>\n",
              "  <tbody>\n",
              "    <tr>\n",
              "      <th>200132</th>\n",
              "      <td>2024741</td>\n",
              "      <td>Arbre</td>\n",
              "      <td>Jardin</td>\n",
              "      <td>BOIS DE VINCENNES</td>\n",
              "      <td>NaN</td>\n",
              "      <td>NaN</td>\n",
              "      <td>ARBORETUM DE L ECOLE DU BREUIL - ROUTE DE LA F...</td>\n",
              "      <td>720170151</td>\n",
              "      <td>NaN</td>\n",
              "      <td>Castanea</td>\n",
              "      <td>fargesii</td>\n",
              "      <td>NaN</td>\n",
              "      <td>0</td>\n",
              "      <td>0</td>\n",
              "      <td>NaN</td>\n",
              "      <td>0.0</td>\n",
              "      <td>48.821957</td>\n",
              "      <td>2.456264</td>\n",
              "    </tr>\n",
              "    <tr>\n",
              "      <th>200133</th>\n",
              "      <td>2024742</td>\n",
              "      <td>Arbre</td>\n",
              "      <td>Jardin</td>\n",
              "      <td>BOIS DE VINCENNES</td>\n",
              "      <td>NaN</td>\n",
              "      <td>NaN</td>\n",
              "      <td>ARBORETUM DE L ECOLE DU BREUIL - ROUTE DE LA F...</td>\n",
              "      <td>720170152</td>\n",
              "      <td>Arbre aux mouchoirs</td>\n",
              "      <td>Davidia</td>\n",
              "      <td>involucrata</td>\n",
              "      <td>NaN</td>\n",
              "      <td>0</td>\n",
              "      <td>0</td>\n",
              "      <td>NaN</td>\n",
              "      <td>0.0</td>\n",
              "      <td>48.823254</td>\n",
              "      <td>2.457935</td>\n",
              "    </tr>\n",
              "    <tr>\n",
              "      <th>200134</th>\n",
              "      <td>2024743</td>\n",
              "      <td>Arbre</td>\n",
              "      <td>Jardin</td>\n",
              "      <td>BOIS DE VINCENNES</td>\n",
              "      <td>NaN</td>\n",
              "      <td>NaN</td>\n",
              "      <td>ARBORETUM DE L ECOLE DU BREUIL - ROUTE DE LA F...</td>\n",
              "      <td>720170153</td>\n",
              "      <td>Peuplier</td>\n",
              "      <td>Populus</td>\n",
              "      <td>simonii</td>\n",
              "      <td>NaN</td>\n",
              "      <td>0</td>\n",
              "      <td>0</td>\n",
              "      <td>NaN</td>\n",
              "      <td>0.0</td>\n",
              "      <td>48.822907</td>\n",
              "      <td>2.457970</td>\n",
              "    </tr>\n",
              "    <tr>\n",
              "      <th>200135</th>\n",
              "      <td>2024744</td>\n",
              "      <td>Arbre</td>\n",
              "      <td>Jardin</td>\n",
              "      <td>BOIS DE VINCENNES</td>\n",
              "      <td>NaN</td>\n",
              "      <td>NaN</td>\n",
              "      <td>ARBORETUM DE L ECOLE DU BREUIL - ROUTE DE LA F...</td>\n",
              "      <td>720170154</td>\n",
              "      <td>Chêne</td>\n",
              "      <td>Quercus</td>\n",
              "      <td>n. sp.</td>\n",
              "      <td>NaN</td>\n",
              "      <td>0</td>\n",
              "      <td>0</td>\n",
              "      <td>NaN</td>\n",
              "      <td>0.0</td>\n",
              "      <td>48.822522</td>\n",
              "      <td>2.455956</td>\n",
              "    </tr>\n",
              "    <tr>\n",
              "      <th>200136</th>\n",
              "      <td>2024745</td>\n",
              "      <td>Arbre</td>\n",
              "      <td>Jardin</td>\n",
              "      <td>BOIS DE VINCENNES</td>\n",
              "      <td>NaN</td>\n",
              "      <td>NaN</td>\n",
              "      <td>ARBORETUM DE L ECOLE DU BREUIL - ROUTE DE LA F...</td>\n",
              "      <td>720170155</td>\n",
              "      <td>Raisinier</td>\n",
              "      <td>Hovenia</td>\n",
              "      <td>dulcis</td>\n",
              "      <td>NaN</td>\n",
              "      <td>0</td>\n",
              "      <td>0</td>\n",
              "      <td>NaN</td>\n",
              "      <td>0.0</td>\n",
              "      <td>48.820445</td>\n",
              "      <td>2.454856</td>\n",
              "    </tr>\n",
              "  </tbody>\n",
              "</table>\n",
              "</div>"
            ],
            "text/plain": [
              "             id type_emplacement  ... geo_point_2d_a geo_point_2d_b\n",
              "200132  2024741            Arbre  ...      48.821957       2.456264\n",
              "200133  2024742            Arbre  ...      48.823254       2.457935\n",
              "200134  2024743            Arbre  ...      48.822907       2.457970\n",
              "200135  2024744            Arbre  ...      48.822522       2.455956\n",
              "200136  2024745            Arbre  ...      48.820445       2.454856\n",
              "\n",
              "[5 rows x 18 columns]"
            ]
          },
          "metadata": {
            "tags": []
          },
          "execution_count": 4
        }
      ]
    },
    {
      "cell_type": "code",
      "metadata": {
        "colab": {
          "base_uri": "https://localhost:8080/"
        },
        "id": "OBfSJzaLzgqS",
        "outputId": "73aa25d1-f342-4fee-fa16-e633335ff082"
      },
      "source": [
        "df_original.info()"
      ],
      "execution_count": null,
      "outputs": [
        {
          "output_type": "stream",
          "text": [
            "<class 'pandas.core.frame.DataFrame'>\n",
            "RangeIndex: 200137 entries, 0 to 200136\n",
            "Data columns (total 18 columns):\n",
            " #   Column               Non-Null Count   Dtype  \n",
            "---  ------               --------------   -----  \n",
            " 0   id                   200137 non-null  int64  \n",
            " 1   type_emplacement     200137 non-null  object \n",
            " 2   domanialite          200136 non-null  object \n",
            " 3   arrondissement       200137 non-null  object \n",
            " 4   complement_addresse  30902 non-null   object \n",
            " 5   numero               0 non-null       float64\n",
            " 6   lieu                 200137 non-null  object \n",
            " 7   id_emplacement       200137 non-null  object \n",
            " 8   libelle_francais     198640 non-null  object \n",
            " 9   genre                200121 non-null  object \n",
            " 10  espece               198385 non-null  object \n",
            " 11  variete              36777 non-null   object \n",
            " 12  circonference_cm     200137 non-null  int64  \n",
            " 13  hauteur_m            200137 non-null  int64  \n",
            " 14  stade_developpement  132932 non-null  object \n",
            " 15  remarquable          137039 non-null  float64\n",
            " 16  geo_point_2d_a       200137 non-null  float64\n",
            " 17  geo_point_2d_b       200137 non-null  float64\n",
            "dtypes: float64(4), int64(3), object(11)\n",
            "memory usage: 27.5+ MB\n"
          ],
          "name": "stdout"
        }
      ]
    },
    {
      "cell_type": "code",
      "metadata": {
        "colab": {
          "base_uri": "https://localhost:8080/"
        },
        "id": "tHf0zXmn0IGe",
        "outputId": "41c95a0b-771b-4e24-9de3-8b1b93a9b84b"
      },
      "source": [
        "# find all the null values in the CSV\n",
        "df_original.isnull().sum().sort_values(ascending=False)"
      ],
      "execution_count": null,
      "outputs": [
        {
          "output_type": "execute_result",
          "data": {
            "text/plain": [
              "numero                 200137\n",
              "complement_addresse    169235\n",
              "variete                163360\n",
              "stade_developpement     67205\n",
              "remarquable             63098\n",
              "espece                   1752\n",
              "libelle_francais         1497\n",
              "genre                      16\n",
              "domanialite                 1\n",
              "type_emplacement            0\n",
              "arrondissement              0\n",
              "geo_point_2d_b              0\n",
              "lieu                        0\n",
              "id_emplacement              0\n",
              "geo_point_2d_a              0\n",
              "circonference_cm            0\n",
              "hauteur_m                   0\n",
              "id                          0\n",
              "dtype: int64"
            ]
          },
          "metadata": {
            "tags": []
          },
          "execution_count": 6
        }
      ]
    },
    {
      "cell_type": "markdown",
      "metadata": {
        "id": "8hxvtnZKZEZB"
      },
      "source": [
        "We copying the required columns to a nez dataframe which will be used for our further analysis\n",
        "\n",
        "\n",
        "*   For Geo Location : arrondissement, geo_point_2d_a & geo_point_2d_b\n",
        "*   For level of care: stade_developpement\n",
        "*   For Euipments decision: circonference_cm & hauteur_m\n",
        "\n",
        "\n",
        "\n"
      ]
    },
    {
      "cell_type": "code",
      "metadata": {
        "colab": {
          "base_uri": "https://localhost:8080/",
          "height": 204
        },
        "id": "vd5NAxgj6Ir0",
        "outputId": "931454a0-3615-4020-f109-d188ae322223"
      },
      "source": [
        "df=df_original.iloc[:,[0, 3, 12, 13, 14, 16, 17]].copy()\n",
        "\n",
        "df.rename(columns={\n",
        "    \"hauteur_m\":\"hauteur (m)\",\n",
        "    \"stade_developpement\":\"stade\",\n",
        "    \"circonference_cm\":\"circonference (cm)\",\n",
        "    \"geo_point_2d_a\":\"geoLoc a\",\n",
        "    \"geo_point_2d_b\":\"geoLoc b\"\n",
        "},inplace=True)\n",
        "\n",
        "df.head()"
      ],
      "execution_count": null,
      "outputs": [
        {
          "output_type": "execute_result",
          "data": {
            "text/html": [
              "<div>\n",
              "<style scoped>\n",
              "    .dataframe tbody tr th:only-of-type {\n",
              "        vertical-align: middle;\n",
              "    }\n",
              "\n",
              "    .dataframe tbody tr th {\n",
              "        vertical-align: top;\n",
              "    }\n",
              "\n",
              "    .dataframe thead th {\n",
              "        text-align: right;\n",
              "    }\n",
              "</style>\n",
              "<table border=\"1\" class=\"dataframe\">\n",
              "  <thead>\n",
              "    <tr style=\"text-align: right;\">\n",
              "      <th></th>\n",
              "      <th>id</th>\n",
              "      <th>arrondissement</th>\n",
              "      <th>circonference (cm)</th>\n",
              "      <th>hauteur (m)</th>\n",
              "      <th>stade</th>\n",
              "      <th>geoLoc a</th>\n",
              "      <th>geoLoc b</th>\n",
              "    </tr>\n",
              "  </thead>\n",
              "  <tbody>\n",
              "    <tr>\n",
              "      <th>0</th>\n",
              "      <td>99874</td>\n",
              "      <td>PARIS 7E ARRDT</td>\n",
              "      <td>20</td>\n",
              "      <td>5</td>\n",
              "      <td>NaN</td>\n",
              "      <td>48.857620</td>\n",
              "      <td>2.320962</td>\n",
              "    </tr>\n",
              "    <tr>\n",
              "      <th>1</th>\n",
              "      <td>99875</td>\n",
              "      <td>PARIS 7E ARRDT</td>\n",
              "      <td>65</td>\n",
              "      <td>8</td>\n",
              "      <td>A</td>\n",
              "      <td>48.857656</td>\n",
              "      <td>2.321031</td>\n",
              "    </tr>\n",
              "    <tr>\n",
              "      <th>2</th>\n",
              "      <td>99876</td>\n",
              "      <td>PARIS 7E ARRDT</td>\n",
              "      <td>90</td>\n",
              "      <td>10</td>\n",
              "      <td>A</td>\n",
              "      <td>48.857705</td>\n",
              "      <td>2.321061</td>\n",
              "    </tr>\n",
              "    <tr>\n",
              "      <th>3</th>\n",
              "      <td>99877</td>\n",
              "      <td>PARIS 7E ARRDT</td>\n",
              "      <td>60</td>\n",
              "      <td>8</td>\n",
              "      <td>A</td>\n",
              "      <td>48.857722</td>\n",
              "      <td>2.321006</td>\n",
              "    </tr>\n",
              "    <tr>\n",
              "      <th>4</th>\n",
              "      <td>99878</td>\n",
              "      <td>PARIS 17E ARRDT</td>\n",
              "      <td>38</td>\n",
              "      <td>0</td>\n",
              "      <td>NaN</td>\n",
              "      <td>48.890435</td>\n",
              "      <td>2.315289</td>\n",
              "    </tr>\n",
              "  </tbody>\n",
              "</table>\n",
              "</div>"
            ],
            "text/plain": [
              "      id   arrondissement  circonference (cm)  ...  stade   geoLoc a  geoLoc b\n",
              "0  99874   PARIS 7E ARRDT                  20  ...    NaN  48.857620  2.320962\n",
              "1  99875   PARIS 7E ARRDT                  65  ...      A  48.857656  2.321031\n",
              "2  99876   PARIS 7E ARRDT                  90  ...      A  48.857705  2.321061\n",
              "3  99877   PARIS 7E ARRDT                  60  ...      A  48.857722  2.321006\n",
              "4  99878  PARIS 17E ARRDT                  38  ...    NaN  48.890435  2.315289\n",
              "\n",
              "[5 rows x 7 columns]"
            ]
          },
          "metadata": {
            "tags": []
          },
          "execution_count": 7
        }
      ]
    },
    {
      "cell_type": "code",
      "metadata": {
        "colab": {
          "base_uri": "https://localhost:8080/",
          "height": 390
        },
        "id": "eMkmfkrVBQy1",
        "outputId": "5e74a698-d7b5-481e-cec9-fe787cc3a341"
      },
      "source": [
        "df.describe(include=\"all\") "
      ],
      "execution_count": null,
      "outputs": [
        {
          "output_type": "execute_result",
          "data": {
            "text/html": [
              "<div>\n",
              "<style scoped>\n",
              "    .dataframe tbody tr th:only-of-type {\n",
              "        vertical-align: middle;\n",
              "    }\n",
              "\n",
              "    .dataframe tbody tr th {\n",
              "        vertical-align: top;\n",
              "    }\n",
              "\n",
              "    .dataframe thead th {\n",
              "        text-align: right;\n",
              "    }\n",
              "</style>\n",
              "<table border=\"1\" class=\"dataframe\">\n",
              "  <thead>\n",
              "    <tr style=\"text-align: right;\">\n",
              "      <th></th>\n",
              "      <th>id</th>\n",
              "      <th>arrondissement</th>\n",
              "      <th>circonference (cm)</th>\n",
              "      <th>hauteur (m)</th>\n",
              "      <th>stade</th>\n",
              "      <th>geoLoc a</th>\n",
              "      <th>geoLoc b</th>\n",
              "    </tr>\n",
              "  </thead>\n",
              "  <tbody>\n",
              "    <tr>\n",
              "      <th>count</th>\n",
              "      <td>2.001370e+05</td>\n",
              "      <td>200137</td>\n",
              "      <td>200137.000000</td>\n",
              "      <td>200137.000000</td>\n",
              "      <td>132932</td>\n",
              "      <td>200137.000000</td>\n",
              "      <td>200137.000000</td>\n",
              "    </tr>\n",
              "    <tr>\n",
              "      <th>unique</th>\n",
              "      <td>NaN</td>\n",
              "      <td>25</td>\n",
              "      <td>NaN</td>\n",
              "      <td>NaN</td>\n",
              "      <td>4</td>\n",
              "      <td>NaN</td>\n",
              "      <td>NaN</td>\n",
              "    </tr>\n",
              "    <tr>\n",
              "      <th>top</th>\n",
              "      <td>NaN</td>\n",
              "      <td>PARIS 15E ARRDT</td>\n",
              "      <td>NaN</td>\n",
              "      <td>NaN</td>\n",
              "      <td>A</td>\n",
              "      <td>NaN</td>\n",
              "      <td>NaN</td>\n",
              "    </tr>\n",
              "    <tr>\n",
              "      <th>freq</th>\n",
              "      <td>NaN</td>\n",
              "      <td>17151</td>\n",
              "      <td>NaN</td>\n",
              "      <td>NaN</td>\n",
              "      <td>64438</td>\n",
              "      <td>NaN</td>\n",
              "      <td>NaN</td>\n",
              "    </tr>\n",
              "    <tr>\n",
              "      <th>mean</th>\n",
              "      <td>3.872027e+05</td>\n",
              "      <td>NaN</td>\n",
              "      <td>83.380479</td>\n",
              "      <td>13.110509</td>\n",
              "      <td>NaN</td>\n",
              "      <td>48.854491</td>\n",
              "      <td>2.348208</td>\n",
              "    </tr>\n",
              "    <tr>\n",
              "      <th>std</th>\n",
              "      <td>5.456032e+05</td>\n",
              "      <td>NaN</td>\n",
              "      <td>673.190213</td>\n",
              "      <td>1971.217387</td>\n",
              "      <td>NaN</td>\n",
              "      <td>0.030234</td>\n",
              "      <td>0.051220</td>\n",
              "    </tr>\n",
              "    <tr>\n",
              "      <th>min</th>\n",
              "      <td>9.987400e+04</td>\n",
              "      <td>NaN</td>\n",
              "      <td>0.000000</td>\n",
              "      <td>0.000000</td>\n",
              "      <td>NaN</td>\n",
              "      <td>48.742290</td>\n",
              "      <td>2.210241</td>\n",
              "    </tr>\n",
              "    <tr>\n",
              "      <th>25%</th>\n",
              "      <td>1.559270e+05</td>\n",
              "      <td>NaN</td>\n",
              "      <td>30.000000</td>\n",
              "      <td>5.000000</td>\n",
              "      <td>NaN</td>\n",
              "      <td>48.835021</td>\n",
              "      <td>2.307530</td>\n",
              "    </tr>\n",
              "    <tr>\n",
              "      <th>50%</th>\n",
              "      <td>2.210780e+05</td>\n",
              "      <td>NaN</td>\n",
              "      <td>70.000000</td>\n",
              "      <td>8.000000</td>\n",
              "      <td>NaN</td>\n",
              "      <td>48.854162</td>\n",
              "      <td>2.351095</td>\n",
              "    </tr>\n",
              "    <tr>\n",
              "      <th>75%</th>\n",
              "      <td>2.741020e+05</td>\n",
              "      <td>NaN</td>\n",
              "      <td>115.000000</td>\n",
              "      <td>12.000000</td>\n",
              "      <td>NaN</td>\n",
              "      <td>48.876447</td>\n",
              "      <td>2.386838</td>\n",
              "    </tr>\n",
              "    <tr>\n",
              "      <th>max</th>\n",
              "      <td>2.024745e+06</td>\n",
              "      <td>NaN</td>\n",
              "      <td>250255.000000</td>\n",
              "      <td>881818.000000</td>\n",
              "      <td>NaN</td>\n",
              "      <td>48.911485</td>\n",
              "      <td>2.469759</td>\n",
              "    </tr>\n",
              "  </tbody>\n",
              "</table>\n",
              "</div>"
            ],
            "text/plain": [
              "                  id   arrondissement  ...       geoLoc a       geoLoc b\n",
              "count   2.001370e+05           200137  ...  200137.000000  200137.000000\n",
              "unique           NaN               25  ...            NaN            NaN\n",
              "top              NaN  PARIS 15E ARRDT  ...            NaN            NaN\n",
              "freq             NaN            17151  ...            NaN            NaN\n",
              "mean    3.872027e+05              NaN  ...      48.854491       2.348208\n",
              "std     5.456032e+05              NaN  ...       0.030234       0.051220\n",
              "min     9.987400e+04              NaN  ...      48.742290       2.210241\n",
              "25%     1.559270e+05              NaN  ...      48.835021       2.307530\n",
              "50%     2.210780e+05              NaN  ...      48.854162       2.351095\n",
              "75%     2.741020e+05              NaN  ...      48.876447       2.386838\n",
              "max     2.024745e+06              NaN  ...      48.911485       2.469759\n",
              "\n",
              "[11 rows x 7 columns]"
            ]
          },
          "metadata": {
            "tags": []
          },
          "execution_count": 8
        }
      ]
    },
    {
      "cell_type": "code",
      "metadata": {
        "colab": {
          "base_uri": "https://localhost:8080/"
        },
        "id": "1JT-RWQQHtsL",
        "outputId": "628ce5bb-5080-4f0d-c10e-2ea53ba21588"
      },
      "source": [
        "df.isnull().sum().sort_values(ascending=False)"
      ],
      "execution_count": null,
      "outputs": [
        {
          "output_type": "execute_result",
          "data": {
            "text/plain": [
              "stade                 67205\n",
              "geoLoc b                  0\n",
              "geoLoc a                  0\n",
              "hauteur (m)               0\n",
              "circonference (cm)        0\n",
              "arrondissement            0\n",
              "id                        0\n",
              "dtype: int64"
            ]
          },
          "metadata": {
            "tags": []
          },
          "execution_count": 9
        }
      ]
    },
    {
      "cell_type": "markdown",
      "metadata": {
        "id": "SWmPkHSLmW-b"
      },
      "source": [
        "# Data Cleaning"
      ]
    },
    {
      "cell_type": "markdown",
      "metadata": {
        "id": "VWqojTySg_qC"
      },
      "source": [
        "Data to the tallest and largest trees: https://en.wikipedia.org/wiki/List_of_superlative_trees\n",
        "\n",
        "Tree height measurement methods are often unreliable, sometimes producing exaggerations of 5% to 15%, So we add 15% to the tallest recorded tree which is at 115.92.\n",
        "\n",
        "---\n",
        "\n",
        "\n",
        "*   Hauteur limit is ketp at **133** meters after taking exaggerations into account\n",
        "*   Circonference limit is kept at **4000** centimeters as the largest tree is 37.7 meters in Circonference\n",
        "*   We considering 0 as a true value for all the plants who fall in the category from 0 to 0.5\n"
      ]
    },
    {
      "cell_type": "code",
      "metadata": {
        "id": "fRzNr1bghl6g"
      },
      "source": [
        "# Circonference limit is kept at 4000 centimeters as the largest tree is 37.7 meters in Circonference\n",
        "circonferenceLimit = (df['circonference (cm)'] >= 0) & (df['circonference (cm)'] <= 4000) #df['circonference (cm)'].max()) #\n",
        "# Hauteur limit is ketp at 133 meters after taking exaggerations into account\n",
        "hauteurLimit = (df['hauteur (m)'] >= 0) & (df['hauteur (m)'] <= 133) #df['hauteur (m)'].max()) #"
      ],
      "execution_count": null,
      "outputs": []
    },
    {
      "cell_type": "code",
      "metadata": {
        "colab": {
          "base_uri": "https://localhost:8080/",
          "height": 297
        },
        "id": "mOLdRWp3m2on",
        "outputId": "b79d34f4-f2f9-48af-bb55-28dd3e00b24f"
      },
      "source": [
        "df[circonferenceLimit].describe()"
      ],
      "execution_count": null,
      "outputs": [
        {
          "output_type": "execute_result",
          "data": {
            "text/html": [
              "<div>\n",
              "<style scoped>\n",
              "    .dataframe tbody tr th:only-of-type {\n",
              "        vertical-align: middle;\n",
              "    }\n",
              "\n",
              "    .dataframe tbody tr th {\n",
              "        vertical-align: top;\n",
              "    }\n",
              "\n",
              "    .dataframe thead th {\n",
              "        text-align: right;\n",
              "    }\n",
              "</style>\n",
              "<table border=\"1\" class=\"dataframe\">\n",
              "  <thead>\n",
              "    <tr style=\"text-align: right;\">\n",
              "      <th></th>\n",
              "      <th>id</th>\n",
              "      <th>circonference (cm)</th>\n",
              "      <th>hauteur (m)</th>\n",
              "      <th>geoLoc a</th>\n",
              "      <th>geoLoc b</th>\n",
              "    </tr>\n",
              "  </thead>\n",
              "  <tbody>\n",
              "    <tr>\n",
              "      <th>count</th>\n",
              "      <td>2.001180e+05</td>\n",
              "      <td>200118.000000</td>\n",
              "      <td>200118.000000</td>\n",
              "      <td>200118.000000</td>\n",
              "      <td>200118.000000</td>\n",
              "    </tr>\n",
              "    <tr>\n",
              "      <th>mean</th>\n",
              "      <td>3.872150e+05</td>\n",
              "      <td>80.039901</td>\n",
              "      <td>13.106212</td>\n",
              "      <td>48.854490</td>\n",
              "      <td>2.348208</td>\n",
              "    </tr>\n",
              "    <tr>\n",
              "      <th>std</th>\n",
              "      <td>5.456276e+05</td>\n",
              "      <td>67.982563</td>\n",
              "      <td>1971.310145</td>\n",
              "      <td>0.030235</td>\n",
              "      <td>0.051221</td>\n",
              "    </tr>\n",
              "    <tr>\n",
              "      <th>min</th>\n",
              "      <td>9.987400e+04</td>\n",
              "      <td>0.000000</td>\n",
              "      <td>0.000000</td>\n",
              "      <td>48.742290</td>\n",
              "      <td>2.210241</td>\n",
              "    </tr>\n",
              "    <tr>\n",
              "      <th>25%</th>\n",
              "      <td>1.559162e+05</td>\n",
              "      <td>30.000000</td>\n",
              "      <td>5.000000</td>\n",
              "      <td>48.835020</td>\n",
              "      <td>2.307529</td>\n",
              "    </tr>\n",
              "    <tr>\n",
              "      <th>50%</th>\n",
              "      <td>2.210735e+05</td>\n",
              "      <td>70.000000</td>\n",
              "      <td>8.000000</td>\n",
              "      <td>48.854162</td>\n",
              "      <td>2.351096</td>\n",
              "    </tr>\n",
              "    <tr>\n",
              "      <th>75%</th>\n",
              "      <td>2.740998e+05</td>\n",
              "      <td>115.000000</td>\n",
              "      <td>12.000000</td>\n",
              "      <td>48.876447</td>\n",
              "      <td>2.386838</td>\n",
              "    </tr>\n",
              "    <tr>\n",
              "      <th>max</th>\n",
              "      <td>2.024745e+06</td>\n",
              "      <td>3630.000000</td>\n",
              "      <td>881818.000000</td>\n",
              "      <td>48.911485</td>\n",
              "      <td>2.469759</td>\n",
              "    </tr>\n",
              "  </tbody>\n",
              "</table>\n",
              "</div>"
            ],
            "text/plain": [
              "                 id  circonference (cm)  ...       geoLoc a       geoLoc b\n",
              "count  2.001180e+05       200118.000000  ...  200118.000000  200118.000000\n",
              "mean   3.872150e+05           80.039901  ...      48.854490       2.348208\n",
              "std    5.456276e+05           67.982563  ...       0.030235       0.051221\n",
              "min    9.987400e+04            0.000000  ...      48.742290       2.210241\n",
              "25%    1.559162e+05           30.000000  ...      48.835020       2.307529\n",
              "50%    2.210735e+05           70.000000  ...      48.854162       2.351096\n",
              "75%    2.740998e+05          115.000000  ...      48.876447       2.386838\n",
              "max    2.024745e+06         3630.000000  ...      48.911485       2.469759\n",
              "\n",
              "[8 rows x 5 columns]"
            ]
          },
          "metadata": {
            "tags": []
          },
          "execution_count": 11
        }
      ]
    },
    {
      "cell_type": "code",
      "metadata": {
        "colab": {
          "base_uri": "https://localhost:8080/",
          "height": 297
        },
        "id": "tQj9VuWSciuG",
        "outputId": "dd9e5a8a-dfab-4cf4-9176-be7d8c75008d"
      },
      "source": [
        "df[hauteurLimit].describe()"
      ],
      "execution_count": null,
      "outputs": [
        {
          "output_type": "execute_result",
          "data": {
            "text/html": [
              "<div>\n",
              "<style scoped>\n",
              "    .dataframe tbody tr th:only-of-type {\n",
              "        vertical-align: middle;\n",
              "    }\n",
              "\n",
              "    .dataframe tbody tr th {\n",
              "        vertical-align: top;\n",
              "    }\n",
              "\n",
              "    .dataframe thead th {\n",
              "        text-align: right;\n",
              "    }\n",
              "</style>\n",
              "<table border=\"1\" class=\"dataframe\">\n",
              "  <thead>\n",
              "    <tr style=\"text-align: right;\">\n",
              "      <th></th>\n",
              "      <th>id</th>\n",
              "      <th>circonference (cm)</th>\n",
              "      <th>hauteur (m)</th>\n",
              "      <th>geoLoc a</th>\n",
              "      <th>geoLoc b</th>\n",
              "    </tr>\n",
              "  </thead>\n",
              "  <tbody>\n",
              "    <tr>\n",
              "      <th>count</th>\n",
              "      <td>2.000730e+05</td>\n",
              "      <td>200073.000000</td>\n",
              "      <td>200073.000000</td>\n",
              "      <td>200073.000000</td>\n",
              "      <td>200073.000000</td>\n",
              "    </tr>\n",
              "    <tr>\n",
              "      <th>mean</th>\n",
              "      <td>3.871581e+05</td>\n",
              "      <td>83.334733</td>\n",
              "      <td>8.476291</td>\n",
              "      <td>48.854491</td>\n",
              "      <td>2.348207</td>\n",
              "    </tr>\n",
              "    <tr>\n",
              "      <th>std</th>\n",
              "      <td>5.455652e+05</td>\n",
              "      <td>673.090222</td>\n",
              "      <td>7.059151</td>\n",
              "      <td>0.030237</td>\n",
              "      <td>0.051219</td>\n",
              "    </tr>\n",
              "    <tr>\n",
              "      <th>min</th>\n",
              "      <td>9.987400e+04</td>\n",
              "      <td>0.000000</td>\n",
              "      <td>0.000000</td>\n",
              "      <td>48.742290</td>\n",
              "      <td>2.210241</td>\n",
              "    </tr>\n",
              "    <tr>\n",
              "      <th>25%</th>\n",
              "      <td>1.558820e+05</td>\n",
              "      <td>30.000000</td>\n",
              "      <td>5.000000</td>\n",
              "      <td>48.835019</td>\n",
              "      <td>2.307529</td>\n",
              "    </tr>\n",
              "    <tr>\n",
              "      <th>50%</th>\n",
              "      <td>2.210560e+05</td>\n",
              "      <td>70.000000</td>\n",
              "      <td>8.000000</td>\n",
              "      <td>48.854162</td>\n",
              "      <td>2.351095</td>\n",
              "    </tr>\n",
              "    <tr>\n",
              "      <th>75%</th>\n",
              "      <td>2.740790e+05</td>\n",
              "      <td>115.000000</td>\n",
              "      <td>12.000000</td>\n",
              "      <td>48.876451</td>\n",
              "      <td>2.386838</td>\n",
              "    </tr>\n",
              "    <tr>\n",
              "      <th>max</th>\n",
              "      <td>2.024745e+06</td>\n",
              "      <td>250255.000000</td>\n",
              "      <td>130.000000</td>\n",
              "      <td>48.911485</td>\n",
              "      <td>2.469759</td>\n",
              "    </tr>\n",
              "  </tbody>\n",
              "</table>\n",
              "</div>"
            ],
            "text/plain": [
              "                 id  circonference (cm)  ...       geoLoc a       geoLoc b\n",
              "count  2.000730e+05       200073.000000  ...  200073.000000  200073.000000\n",
              "mean   3.871581e+05           83.334733  ...      48.854491       2.348207\n",
              "std    5.455652e+05          673.090222  ...       0.030237       0.051219\n",
              "min    9.987400e+04            0.000000  ...      48.742290       2.210241\n",
              "25%    1.558820e+05           30.000000  ...      48.835019       2.307529\n",
              "50%    2.210560e+05           70.000000  ...      48.854162       2.351095\n",
              "75%    2.740790e+05          115.000000  ...      48.876451       2.386838\n",
              "max    2.024745e+06       250255.000000  ...      48.911485       2.469759\n",
              "\n",
              "[8 rows x 5 columns]"
            ]
          },
          "metadata": {
            "tags": []
          },
          "execution_count": 12
        }
      ]
    },
    {
      "cell_type": "code",
      "metadata": {
        "colab": {
          "base_uri": "https://localhost:8080/",
          "height": 297
        },
        "id": "m9Nm_jVyueux",
        "outputId": "e7f75537-1ac0-4a3e-97e2-2e8100098f9a"
      },
      "source": [
        "df[(circonferenceLimit) & (hauteurLimit)].describe()"
      ],
      "execution_count": null,
      "outputs": [
        {
          "output_type": "execute_result",
          "data": {
            "text/html": [
              "<div>\n",
              "<style scoped>\n",
              "    .dataframe tbody tr th:only-of-type {\n",
              "        vertical-align: middle;\n",
              "    }\n",
              "\n",
              "    .dataframe tbody tr th {\n",
              "        vertical-align: top;\n",
              "    }\n",
              "\n",
              "    .dataframe thead th {\n",
              "        text-align: right;\n",
              "    }\n",
              "</style>\n",
              "<table border=\"1\" class=\"dataframe\">\n",
              "  <thead>\n",
              "    <tr style=\"text-align: right;\">\n",
              "      <th></th>\n",
              "      <th>id</th>\n",
              "      <th>circonference (cm)</th>\n",
              "      <th>hauteur (m)</th>\n",
              "      <th>geoLoc a</th>\n",
              "      <th>geoLoc b</th>\n",
              "    </tr>\n",
              "  </thead>\n",
              "  <tbody>\n",
              "    <tr>\n",
              "      <th>count</th>\n",
              "      <td>2.000550e+05</td>\n",
              "      <td>200055.000000</td>\n",
              "      <td>200055.000000</td>\n",
              "      <td>200055.000000</td>\n",
              "      <td>200055.000000</td>\n",
              "    </tr>\n",
              "    <tr>\n",
              "      <th>mean</th>\n",
              "      <td>3.871699e+05</td>\n",
              "      <td>80.030372</td>\n",
              "      <td>8.475584</td>\n",
              "      <td>48.854490</td>\n",
              "      <td>2.348207</td>\n",
              "    </tr>\n",
              "    <tr>\n",
              "      <th>std</th>\n",
              "      <td>5.455883e+05</td>\n",
              "      <td>67.980503</td>\n",
              "      <td>7.058346</td>\n",
              "      <td>0.030237</td>\n",
              "      <td>0.051220</td>\n",
              "    </tr>\n",
              "    <tr>\n",
              "      <th>min</th>\n",
              "      <td>9.987400e+04</td>\n",
              "      <td>0.000000</td>\n",
              "      <td>0.000000</td>\n",
              "      <td>48.742290</td>\n",
              "      <td>2.210241</td>\n",
              "    </tr>\n",
              "    <tr>\n",
              "      <th>25%</th>\n",
              "      <td>1.558775e+05</td>\n",
              "      <td>30.000000</td>\n",
              "      <td>5.000000</td>\n",
              "      <td>48.835019</td>\n",
              "      <td>2.307528</td>\n",
              "    </tr>\n",
              "    <tr>\n",
              "      <th>50%</th>\n",
              "      <td>2.210520e+05</td>\n",
              "      <td>70.000000</td>\n",
              "      <td>8.000000</td>\n",
              "      <td>48.854162</td>\n",
              "      <td>2.351095</td>\n",
              "    </tr>\n",
              "    <tr>\n",
              "      <th>75%</th>\n",
              "      <td>2.740775e+05</td>\n",
              "      <td>115.000000</td>\n",
              "      <td>12.000000</td>\n",
              "      <td>48.876450</td>\n",
              "      <td>2.386838</td>\n",
              "    </tr>\n",
              "    <tr>\n",
              "      <th>max</th>\n",
              "      <td>2.024745e+06</td>\n",
              "      <td>3630.000000</td>\n",
              "      <td>130.000000</td>\n",
              "      <td>48.911485</td>\n",
              "      <td>2.469759</td>\n",
              "    </tr>\n",
              "  </tbody>\n",
              "</table>\n",
              "</div>"
            ],
            "text/plain": [
              "                 id  circonference (cm)  ...       geoLoc a       geoLoc b\n",
              "count  2.000550e+05       200055.000000  ...  200055.000000  200055.000000\n",
              "mean   3.871699e+05           80.030372  ...      48.854490       2.348207\n",
              "std    5.455883e+05           67.980503  ...       0.030237       0.051220\n",
              "min    9.987400e+04            0.000000  ...      48.742290       2.210241\n",
              "25%    1.558775e+05           30.000000  ...      48.835019       2.307528\n",
              "50%    2.210520e+05           70.000000  ...      48.854162       2.351095\n",
              "75%    2.740775e+05          115.000000  ...      48.876450       2.386838\n",
              "max    2.024745e+06         3630.000000  ...      48.911485       2.469759\n",
              "\n",
              "[8 rows x 5 columns]"
            ]
          },
          "metadata": {
            "tags": []
          },
          "execution_count": 13
        }
      ]
    },
    {
      "cell_type": "code",
      "metadata": {
        "id": "5OPpowKAyL8c"
      },
      "source": [
        "# boxplt for 2 distribution\n",
        "def boxplot_subplots(dist1,dist2):\n",
        "\n",
        "    sns.set_theme(style=\"whitegrid\")\n",
        "    fig, axs = plt.subplots(1, 2, sharex=True, figsize=(15,5))\n",
        "    titles=['CIRCONFERENCES DES ARBRES DE PARIS', 'HAUTEURS DES ARBRES DE PARIS']\n",
        "    ylabels=['CIRCONFERENCE (cm)','HAUTEUR (m)']\n",
        "    y_=[dist1,dist2]\n",
        "    fig=[0,0]\n",
        "\n",
        "    for i in range(2):\n",
        "        sns.boxplot(ax=axs[i],y=y_[i], width=0.3,palette=\"crest\") \n",
        "        axs[i].set_title(titles[i],size=17,color=\"black\")\n",
        "        axs[i].set_ylabel(ylabels[i],size=15,color=\"black\")\n",
        "        plt.setp(axs[i].get_yticklabels(), fontsize=15)\n",
        "\n",
        "    plt.tight_layout()\n",
        "    plt.show()"
      ],
      "execution_count": null,
      "outputs": []
    },
    {
      "cell_type": "code",
      "metadata": {
        "colab": {
          "base_uri": "https://localhost:8080/",
          "height": 348
        },
        "id": "xsfp-IeIKLtd",
        "outputId": "129573ad-e471-4495-a9d1-5ebc5e8830e6"
      },
      "source": [
        "boxplot_subplots(df['circonference (cm)'], df['hauteur (m)'])"
      ],
      "execution_count": null,
      "outputs": [
        {
          "output_type": "display_data",
          "data": {
            "image/png": "[encoded data removed]",
            "text/plain": [
              "<Figure size 1080x360 with 2 Axes>"
            ]
          },
          "metadata": {
            "tags": []
          }
        }
      ]
    },
    {
      "cell_type": "markdown",
      "metadata": {
        "id": "HtbOL54sEuM4"
      },
      "source": [
        "Data after ignoring unrealistic values"
      ]
    },
    {
      "cell_type": "code",
      "metadata": {
        "colab": {
          "base_uri": "https://localhost:8080/",
          "height": 348
        },
        "id": "Hz1am3F6ySzo",
        "outputId": "ddfa96ad-9d14-492a-c07d-4318388ad395"
      },
      "source": [
        "# Data after ignoring unrealistic values in the column circonference (cm) & hauteur (m)\n",
        "boxplot_subplots(df[circonferenceLimit & hauteurLimit]['circonference (cm)'], df[circonferenceLimit & hauteurLimit]['hauteur (m)'])"
      ],
      "execution_count": null,
      "outputs": [
        {
          "output_type": "display_data",
          "data": {
            "image/png": "[encoded data removed]",
            "text/plain": [
              "<Figure size 1080x360 with 2 Axes>"
            ]
          },
          "metadata": {
            "tags": []
          }
        }
      ]
    },
    {
      "cell_type": "code",
      "metadata": {
        "id": "hKCxQ3xjaGj7"
      },
      "source": [
        "# assigning the clean data to the dataframe\n",
        "df = df[circonferenceLimit & hauteurLimit]"
      ],
      "execution_count": null,
      "outputs": []
    },
    {
      "cell_type": "markdown",
      "metadata": {
        "id": "SJbPB_yS9xAz"
      },
      "source": [
        "# Data manipulation"
      ]
    },
    {
      "cell_type": "markdown",
      "metadata": {
        "id": "qpH8fhoLZY76"
      },
      "source": [
        "Replace null values by text \"Non spécifié\" like already existing in the data in the csv file for the column libelle and genere"
      ]
    },
    {
      "cell_type": "code",
      "metadata": {
        "colab": {
          "base_uri": "https://localhost:8080/"
        },
        "id": "pmlzRKafy_in",
        "outputId": "d4ebc161-b595-44be-d23a-0fd438c3a2b7"
      },
      "source": [
        "df['stade'] = df['stade'].fillna(value='Non spécifié')\n",
        "df.isnull().sum().sort_values(ascending=False)"
      ],
      "execution_count": null,
      "outputs": [
        {
          "output_type": "execute_result",
          "data": {
            "text/plain": [
              "geoLoc b              0\n",
              "geoLoc a              0\n",
              "stade                 0\n",
              "hauteur (m)           0\n",
              "circonference (cm)    0\n",
              "arrondissement        0\n",
              "id                    0\n",
              "dtype: int64"
            ]
          },
          "metadata": {
            "tags": []
          },
          "execution_count": 18
        }
      ]
    },
    {
      "cell_type": "markdown",
      "metadata": {
        "id": "D5_gTESogk7F"
      },
      "source": [
        "Z Score method to minimise Outliers"
      ]
    },
    {
      "cell_type": "markdown",
      "metadata": {
        "id": "dcu4xS_Tupfe"
      },
      "source": [
        "https://towardsdatascience.com/data-handling-using-pandas-cleaning-and-processing-3aa657dc9418"
      ]
    },
    {
      "cell_type": "code",
      "metadata": {
        "id": "FapM5lxcSqTS"
      },
      "source": [
        "# from scipy import stats\n",
        "\n",
        "# # df_num = df.select_dtypes(exclude=['object'])\n",
        "# df_num = df[['circonference (cm)', 'hauteur (m)']]\n",
        "# df_num = df_num[(np.abs(stats.zscore(df_num))<3).all(axis=1)]\n",
        "# df_num.describe"
      ],
      "execution_count": null,
      "outputs": []
    },
    {
      "cell_type": "code",
      "metadata": {
        "id": "uvgMuxpdkBS9"
      },
      "source": [
        "# boxplot_subplots(df_num['circonference (cm)'], df_num['hauteur (m)'])"
      ],
      "execution_count": null,
      "outputs": []
    },
    {
      "cell_type": "code",
      "metadata": {
        "id": "RacRtT6pnl40"
      },
      "source": [
        "# df = pd.merge(df,df_num)\n",
        "# df.describe()"
      ],
      "execution_count": null,
      "outputs": []
    },
    {
      "cell_type": "markdown",
      "metadata": {
        "id": "94wYZ0En-xi-"
      },
      "source": [
        "# Data Visualization"
      ]
    },
    {
      "cell_type": "code",
      "metadata": {
        "colab": {
          "base_uri": "https://localhost:8080/",
          "height": 489
        },
        "id": "zxvHqNftb36s",
        "outputId": "0ab74670-85aa-4e4c-c4f3-0c31f073ec96"
      },
      "source": [
        "def boxplot_subplots_multi(dist1, dist2, stade):\n",
        "\n",
        "    sns.set_theme(style=\"whitegrid\")\n",
        "    fig, axs = plt.subplots(1, 2, sharex=True, figsize=(15,7))\n",
        "\n",
        "    titles=['CIRCONFERENCES DES ARBRES DE PARIS', 'HAUTEURS DES ARBRES DE PARIS']\n",
        "    ylabels=['CIRCONFERENCE (cm)','HAUTEUR (m)']\n",
        "    y_=[dist1,dist2]\n",
        "    x_=stade\n",
        "    fig=[0,0]\n",
        "\n",
        "    for i in range(2):\n",
        "        sns.boxplot(ax=axs[i],x=x_, y=y_[i], width=0.5,showfliers=False, palette=\"crest\", order=[\"J\", \"JA\", \"A\", \"M\", \"Non spécifié\"]) \n",
        "        axs[i].set_title(titles[i],size=17,color=\"black\")\n",
        "        axs[i].set_ylabel(ylabels[i],size=15,color=\"black\")\n",
        "\n",
        "        plt.setp(axs[i].get_yticklabels(), fontsize=15)\n",
        "        plt.setp(axs[i].get_xticklabels(), fontsize=15, rotation=20)\n",
        "        \n",
        "    plt.tight_layout()\n",
        "    plt.show()\n",
        "    \n",
        "boxplot_subplots_multi(df['circonference (cm)'], df['hauteur (m)'], df['stade'])"
      ],
      "execution_count": null,
      "outputs": [
        {
          "output_type": "display_data",
          "data": {
            "image/png": "[encoded data removed]",
            "text/plain": [
              "<Figure size 1080x504 with 2 Axes>"
            ]
          },
          "metadata": {
            "tags": []
          }
        }
      ]
    },
    {
      "cell_type": "markdown",
      "metadata": {
        "id": "2FkCg7uoK7pP"
      },
      "source": [
        "TODO: Depending on the Mean of each Stade the non specific Stade is assigned their stade"
      ]
    },
    {
      "cell_type": "code",
      "metadata": {
        "colab": {
          "base_uri": "https://localhost:8080/",
          "height": 297
        },
        "id": "GJMX9xk4LbQZ",
        "outputId": "ef001a60-37ba-4650-941e-a5e1866633a9"
      },
      "source": [
        "# Analysing the data for young trees\n",
        "df[df['stade'] == 'J'].describe()"
      ],
      "execution_count": null,
      "outputs": [
        {
          "output_type": "execute_result",
          "data": {
            "text/html": [
              "<div>\n",
              "<style scoped>\n",
              "    .dataframe tbody tr th:only-of-type {\n",
              "        vertical-align: middle;\n",
              "    }\n",
              "\n",
              "    .dataframe tbody tr th {\n",
              "        vertical-align: top;\n",
              "    }\n",
              "\n",
              "    .dataframe thead th {\n",
              "        text-align: right;\n",
              "    }\n",
              "</style>\n",
              "<table border=\"1\" class=\"dataframe\">\n",
              "  <thead>\n",
              "    <tr style=\"text-align: right;\">\n",
              "      <th></th>\n",
              "      <th>id</th>\n",
              "      <th>circonference (cm)</th>\n",
              "      <th>hauteur (m)</th>\n",
              "      <th>geoLoc a</th>\n",
              "      <th>geoLoc b</th>\n",
              "    </tr>\n",
              "  </thead>\n",
              "  <tbody>\n",
              "    <tr>\n",
              "      <th>count</th>\n",
              "      <td>2.692900e+04</td>\n",
              "      <td>26929.000000</td>\n",
              "      <td>26929.000000</td>\n",
              "      <td>26929.000000</td>\n",
              "      <td>26929.000000</td>\n",
              "    </tr>\n",
              "    <tr>\n",
              "      <th>mean</th>\n",
              "      <td>5.551592e+05</td>\n",
              "      <td>38.878235</td>\n",
              "      <td>5.782242</td>\n",
              "      <td>48.851983</td>\n",
              "      <td>2.353564</td>\n",
              "    </tr>\n",
              "    <tr>\n",
              "      <th>std</th>\n",
              "      <td>6.932683e+05</td>\n",
              "      <td>34.804088</td>\n",
              "      <td>3.631828</td>\n",
              "      <td>0.024666</td>\n",
              "      <td>0.051920</td>\n",
              "    </tr>\n",
              "    <tr>\n",
              "      <th>min</th>\n",
              "      <td>9.988400e+04</td>\n",
              "      <td>0.000000</td>\n",
              "      <td>0.000000</td>\n",
              "      <td>48.759069</td>\n",
              "      <td>2.212541</td>\n",
              "    </tr>\n",
              "    <tr>\n",
              "      <th>25%</th>\n",
              "      <td>2.067940e+05</td>\n",
              "      <td>25.000000</td>\n",
              "      <td>5.000000</td>\n",
              "      <td>48.833242</td>\n",
              "      <td>2.315492</td>\n",
              "    </tr>\n",
              "    <tr>\n",
              "      <th>50%</th>\n",
              "      <td>2.402380e+05</td>\n",
              "      <td>35.000000</td>\n",
              "      <td>5.000000</td>\n",
              "      <td>48.847311</td>\n",
              "      <td>2.349692</td>\n",
              "    </tr>\n",
              "    <tr>\n",
              "      <th>75%</th>\n",
              "      <td>2.914250e+05</td>\n",
              "      <td>45.000000</td>\n",
              "      <td>6.000000</td>\n",
              "      <td>48.869577</td>\n",
              "      <td>2.390111</td>\n",
              "    </tr>\n",
              "    <tr>\n",
              "      <th>max</th>\n",
              "      <td>2.023252e+06</td>\n",
              "      <td>3630.000000</td>\n",
              "      <td>118.000000</td>\n",
              "      <td>48.910713</td>\n",
              "      <td>2.469759</td>\n",
              "    </tr>\n",
              "  </tbody>\n",
              "</table>\n",
              "</div>"
            ],
            "text/plain": [
              "                 id  circonference (cm)  ...      geoLoc a      geoLoc b\n",
              "count  2.692900e+04        26929.000000  ...  26929.000000  26929.000000\n",
              "mean   5.551592e+05           38.878235  ...     48.851983      2.353564\n",
              "std    6.932683e+05           34.804088  ...      0.024666      0.051920\n",
              "min    9.988400e+04            0.000000  ...     48.759069      2.212541\n",
              "25%    2.067940e+05           25.000000  ...     48.833242      2.315492\n",
              "50%    2.402380e+05           35.000000  ...     48.847311      2.349692\n",
              "75%    2.914250e+05           45.000000  ...     48.869577      2.390111\n",
              "max    2.023252e+06         3630.000000  ...     48.910713      2.469759\n",
              "\n",
              "[8 rows x 5 columns]"
            ]
          },
          "metadata": {
            "tags": []
          },
          "execution_count": 23
        }
      ]
    },
    {
      "cell_type": "code",
      "metadata": {
        "colab": {
          "base_uri": "https://localhost:8080/",
          "height": 204
        },
        "id": "d8LN2pG6lXYp",
        "outputId": "a5d3094f-abdd-4cad-f6a4-f331363bda5c"
      },
      "source": [
        "qtdArrond = df[\"arrondissement\"].value_counts()\n",
        "df_arrond = pd.DataFrame(qtdArrond.index, columns = [\"ARRONDISSEMENT\"])\n",
        "df_arrond[\"TOTAL_ARBRES\"] = qtdArrond.values\n",
        "df_arrond .head()"
      ],
      "execution_count": null,
      "outputs": [
        {
          "output_type": "execute_result",
          "data": {
            "text/html": [
              "<div>\n",
              "<style scoped>\n",
              "    .dataframe tbody tr th:only-of-type {\n",
              "        vertical-align: middle;\n",
              "    }\n",
              "\n",
              "    .dataframe tbody tr th {\n",
              "        vertical-align: top;\n",
              "    }\n",
              "\n",
              "    .dataframe thead th {\n",
              "        text-align: right;\n",
              "    }\n",
              "</style>\n",
              "<table border=\"1\" class=\"dataframe\">\n",
              "  <thead>\n",
              "    <tr style=\"text-align: right;\">\n",
              "      <th></th>\n",
              "      <th>ARRONDISSEMENT</th>\n",
              "      <th>TOTAL_ARBRES</th>\n",
              "    </tr>\n",
              "  </thead>\n",
              "  <tbody>\n",
              "    <tr>\n",
              "      <th>0</th>\n",
              "      <td>PARIS 15E ARRDT</td>\n",
              "      <td>17149</td>\n",
              "    </tr>\n",
              "    <tr>\n",
              "      <th>1</th>\n",
              "      <td>PARIS 13E ARRDT</td>\n",
              "      <td>16711</td>\n",
              "    </tr>\n",
              "    <tr>\n",
              "      <th>2</th>\n",
              "      <td>PARIS 16E ARRDT</td>\n",
              "      <td>16398</td>\n",
              "    </tr>\n",
              "    <tr>\n",
              "      <th>3</th>\n",
              "      <td>PARIS 20E ARRDT</td>\n",
              "      <td>15338</td>\n",
              "    </tr>\n",
              "    <tr>\n",
              "      <th>4</th>\n",
              "      <td>PARIS 19E ARRDT</td>\n",
              "      <td>13702</td>\n",
              "    </tr>\n",
              "  </tbody>\n",
              "</table>\n",
              "</div>"
            ],
            "text/plain": [
              "    ARRONDISSEMENT  TOTAL_ARBRES\n",
              "0  PARIS 15E ARRDT         17149\n",
              "1  PARIS 13E ARRDT         16711\n",
              "2  PARIS 16E ARRDT         16398\n",
              "3  PARIS 20E ARRDT         15338\n",
              "4  PARIS 19E ARRDT         13702"
            ]
          },
          "metadata": {
            "tags": []
          },
          "execution_count": 24
        }
      ]
    },
    {
      "cell_type": "code",
      "metadata": {
        "colab": {
          "base_uri": "https://localhost:8080/",
          "height": 628
        },
        "id": "nTTpJUIy-TGO",
        "outputId": "1d1ca741-6049-4fc0-fe56-b32520cea464"
      },
      "source": [
        "sns.set_style(\"whitegrid\")\n",
        "fig, ax=plt.subplots(figsize=(15,10))\n",
        "sns.barplot(x=df_arrond['TOTAL_ARBRES'],y=df_arrond['ARRONDISSEMENT'], palette=\"crest\")"
      ],
      "execution_count": null,
      "outputs": [
        {
          "output_type": "execute_result",
          "data": {
            "text/plain": [
              "<matplotlib.axes._subplots.AxesSubplot at 0x7fd977fc32d0>"
            ]
          },
          "metadata": {
            "tags": []
          },
          "execution_count": 25
        },
        {
          "output_type": "display_data",
          "data": {
            "image/png": "[encoded data removed]",
            "text/plain": [
              "<Figure size 1080x720 with 1 Axes>"
            ]
          },
          "metadata": {
            "tags": []
          }
        }
      ]
    },
    {
      "cell_type": "markdown",
      "metadata": {
        "id": "O_-JnRpxhgaj"
      },
      "source": [
        "TODO: use pd.cut to get geo loc mean by district and show map views trees density by district"
      ]
    },
    {
      "cell_type": "code",
      "metadata": {
        "colab": {
          "base_uri": "https://localhost:8080/",
          "height": 390
        },
        "id": "pgzkacPkFL1b",
        "outputId": "b7f4184c-e1eb-456e-be81-bc7ad54f41ef"
      },
      "source": [
        "# Tableau de contingence entre arrondissement et stade de développement\n",
        "dfstade_arrond = df[['arrondissement', 'stade']].pivot_table(index='arrondissement', columns='stade',\n",
        "                aggfunc=len, margins=True, margins_name=\"Total\").sort_values(['J'], ascending=False)\n",
        "\n",
        "dfstade_arrond = dfstade_arrond.reindex(columns=['J', 'JA', 'A', 'M', 'Non spécifié', 'Total'])\n",
        "dfstade_arrond.head(10)"
      ],
      "execution_count": null,
      "outputs": [
        {
          "output_type": "execute_result",
          "data": {
            "text/html": [
              "<div>\n",
              "<style scoped>\n",
              "    .dataframe tbody tr th:only-of-type {\n",
              "        vertical-align: middle;\n",
              "    }\n",
              "\n",
              "    .dataframe tbody tr th {\n",
              "        vertical-align: top;\n",
              "    }\n",
              "\n",
              "    .dataframe thead th {\n",
              "        text-align: right;\n",
              "    }\n",
              "</style>\n",
              "<table border=\"1\" class=\"dataframe\">\n",
              "  <thead>\n",
              "    <tr style=\"text-align: right;\">\n",
              "      <th>stade</th>\n",
              "      <th>J</th>\n",
              "      <th>JA</th>\n",
              "      <th>A</th>\n",
              "      <th>M</th>\n",
              "      <th>Non spécifié</th>\n",
              "      <th>Total</th>\n",
              "    </tr>\n",
              "    <tr>\n",
              "      <th>arrondissement</th>\n",
              "      <th></th>\n",
              "      <th></th>\n",
              "      <th></th>\n",
              "      <th></th>\n",
              "      <th></th>\n",
              "      <th></th>\n",
              "    </tr>\n",
              "  </thead>\n",
              "  <tbody>\n",
              "    <tr>\n",
              "      <th>Total</th>\n",
              "      <td>26929</td>\n",
              "      <td>35428</td>\n",
              "      <td>64385</td>\n",
              "      <td>6110</td>\n",
              "      <td>67203</td>\n",
              "      <td>200055</td>\n",
              "    </tr>\n",
              "    <tr>\n",
              "      <th>PARIS 14E ARRDT</th>\n",
              "      <td>3780</td>\n",
              "      <td>3203</td>\n",
              "      <td>2778</td>\n",
              "      <td>393</td>\n",
              "      <td>1244</td>\n",
              "      <td>11398</td>\n",
              "    </tr>\n",
              "    <tr>\n",
              "      <th>PARIS 13E ARRDT</th>\n",
              "      <td>2949</td>\n",
              "      <td>3452</td>\n",
              "      <td>3359</td>\n",
              "      <td>500</td>\n",
              "      <td>6451</td>\n",
              "      <td>16711</td>\n",
              "    </tr>\n",
              "    <tr>\n",
              "      <th>BOIS DE VINCENNES</th>\n",
              "      <td>2860</td>\n",
              "      <td>1658</td>\n",
              "      <td>3381</td>\n",
              "      <td>198</td>\n",
              "      <td>3406</td>\n",
              "      <td>11503</td>\n",
              "    </tr>\n",
              "    <tr>\n",
              "      <th>PARIS 20E ARRDT</th>\n",
              "      <td>2221</td>\n",
              "      <td>2989</td>\n",
              "      <td>6931</td>\n",
              "      <td>295</td>\n",
              "      <td>2902</td>\n",
              "      <td>15338</td>\n",
              "    </tr>\n",
              "    <tr>\n",
              "      <th>PARIS 15E ARRDT</th>\n",
              "      <td>1726</td>\n",
              "      <td>2839</td>\n",
              "      <td>5064</td>\n",
              "      <td>93</td>\n",
              "      <td>7427</td>\n",
              "      <td>17149</td>\n",
              "    </tr>\n",
              "    <tr>\n",
              "      <th>PARIS 19E ARRDT</th>\n",
              "      <td>1682</td>\n",
              "      <td>1913</td>\n",
              "      <td>3225</td>\n",
              "      <td>582</td>\n",
              "      <td>6300</td>\n",
              "      <td>13702</td>\n",
              "    </tr>\n",
              "    <tr>\n",
              "      <th>PARIS 18E ARRDT</th>\n",
              "      <td>1668</td>\n",
              "      <td>2122</td>\n",
              "      <td>2584</td>\n",
              "      <td>660</td>\n",
              "      <td>2968</td>\n",
              "      <td>10002</td>\n",
              "    </tr>\n",
              "    <tr>\n",
              "      <th>PARIS 12E ARRDT</th>\n",
              "      <td>1612</td>\n",
              "      <td>2913</td>\n",
              "      <td>4097</td>\n",
              "      <td>146</td>\n",
              "      <td>3821</td>\n",
              "      <td>12589</td>\n",
              "    </tr>\n",
              "    <tr>\n",
              "      <th>PARIS 16E ARRDT</th>\n",
              "      <td>1489</td>\n",
              "      <td>3057</td>\n",
              "      <td>6026</td>\n",
              "      <td>960</td>\n",
              "      <td>4866</td>\n",
              "      <td>16398</td>\n",
              "    </tr>\n",
              "  </tbody>\n",
              "</table>\n",
              "</div>"
            ],
            "text/plain": [
              "stade                  J     JA      A     M  Non spécifié   Total\n",
              "arrondissement                                                    \n",
              "Total              26929  35428  64385  6110         67203  200055\n",
              "PARIS 14E ARRDT     3780   3203   2778   393          1244   11398\n",
              "PARIS 13E ARRDT     2949   3452   3359   500          6451   16711\n",
              "BOIS DE VINCENNES   2860   1658   3381   198          3406   11503\n",
              "PARIS 20E ARRDT     2221   2989   6931   295          2902   15338\n",
              "PARIS 15E ARRDT     1726   2839   5064    93          7427   17149\n",
              "PARIS 19E ARRDT     1682   1913   3225   582          6300   13702\n",
              "PARIS 18E ARRDT     1668   2122   2584   660          2968   10002\n",
              "PARIS 12E ARRDT     1612   2913   4097   146          3821   12589\n",
              "PARIS 16E ARRDT     1489   3057   6026   960          4866   16398"
            ]
          },
          "metadata": {
            "tags": []
          },
          "execution_count": 29
        }
      ]
    },
    {
      "cell_type": "code",
      "metadata": {
        "id": "UDCygXxlFjb3"
      },
      "source": [
        "dfstade_arrond.drop(dfstade_arrond.head(1).index, inplace=True)\n",
        "dfstade_arrond.drop([\"Total\"], axis=1,inplace=True)"
      ],
      "execution_count": null,
      "outputs": []
    },
    {
      "cell_type": "code",
      "metadata": {
        "colab": {
          "base_uri": "https://localhost:8080/",
          "height": 731
        },
        "id": "Vt_gjQzFF1Zu",
        "outputId": "01553fd6-4e5f-41e6-f29d-bd73eced2465"
      },
      "source": [
        "sns. set_style(\"whitegrid\")\n",
        "dfstade_arrond.plot(kind=\"bar\", stacked=True, figsize=(16,10), color=[\"#e38e00\",\"#90EE90\", \"#469536\",\"#14540d\", \"#808080\"])"
      ],
      "execution_count": null,
      "outputs": [
        {
          "output_type": "execute_result",
          "data": {
            "text/plain": [
              "<matplotlib.axes._subplots.AxesSubplot at 0x7fd97369c2d0>"
            ]
          },
          "metadata": {
            "tags": []
          },
          "execution_count": 32
        },
        {
          "output_type": "display_data",
          "data": {
            "image/png": "[encoded data removed]",
            "text/plain": [
              "<Figure size 1152x720 with 1 Axes>"
            ]
          },
          "metadata": {
            "tags": []
          }
        }
      ]
    },
    {
      "cell_type": "code",
      "metadata": {
        "colab": {
          "base_uri": "https://localhost:8080/",
          "height": 204
        },
        "id": "_OdR-nyCGWeF",
        "outputId": "e4e88075-6184-49fc-ca25-bb2d9f2e2ee6"
      },
      "source": [
        "# Analyse the hauter of plants with stade J for Jeunes\n",
        "dfhauteursJeunes=df[['arrondissement','hauteur (m)']]\n",
        "dfhauteursJeunes.head()"
      ],
      "execution_count": null,
      "outputs": [
        {
          "output_type": "execute_result",
          "data": {
            "text/html": [
              "<div>\n",
              "<style scoped>\n",
              "    .dataframe tbody tr th:only-of-type {\n",
              "        vertical-align: middle;\n",
              "    }\n",
              "\n",
              "    .dataframe tbody tr th {\n",
              "        vertical-align: top;\n",
              "    }\n",
              "\n",
              "    .dataframe thead th {\n",
              "        text-align: right;\n",
              "    }\n",
              "</style>\n",
              "<table border=\"1\" class=\"dataframe\">\n",
              "  <thead>\n",
              "    <tr style=\"text-align: right;\">\n",
              "      <th></th>\n",
              "      <th>arrondissement</th>\n",
              "      <th>hauteur (m)</th>\n",
              "    </tr>\n",
              "  </thead>\n",
              "  <tbody>\n",
              "    <tr>\n",
              "      <th>0</th>\n",
              "      <td>PARIS 7E ARRDT</td>\n",
              "      <td>5</td>\n",
              "    </tr>\n",
              "    <tr>\n",
              "      <th>1</th>\n",
              "      <td>PARIS 7E ARRDT</td>\n",
              "      <td>8</td>\n",
              "    </tr>\n",
              "    <tr>\n",
              "      <th>2</th>\n",
              "      <td>PARIS 7E ARRDT</td>\n",
              "      <td>10</td>\n",
              "    </tr>\n",
              "    <tr>\n",
              "      <th>3</th>\n",
              "      <td>PARIS 7E ARRDT</td>\n",
              "      <td>8</td>\n",
              "    </tr>\n",
              "    <tr>\n",
              "      <th>4</th>\n",
              "      <td>PARIS 17E ARRDT</td>\n",
              "      <td>0</td>\n",
              "    </tr>\n",
              "  </tbody>\n",
              "</table>\n",
              "</div>"
            ],
            "text/plain": [
              "    arrondissement  hauteur (m)\n",
              "0   PARIS 7E ARRDT            5\n",
              "1   PARIS 7E ARRDT            8\n",
              "2   PARIS 7E ARRDT           10\n",
              "3   PARIS 7E ARRDT            8\n",
              "4  PARIS 17E ARRDT            0"
            ]
          },
          "metadata": {
            "tags": []
          },
          "execution_count": 40
        }
      ]
    },
    {
      "cell_type": "code",
      "metadata": {
        "colab": {
          "base_uri": "https://localhost:8080/",
          "height": 326
        },
        "id": "Wxnu1eeaJLow",
        "outputId": "94e4f778-328a-4c10-e98a-eabd15e86bbb"
      },
      "source": [
        "hauteur_max=dfhauteursJeunes[\"hauteur (m)\"].max()\n",
        "hauteur_min=dfhauteursJeunes[\"hauteur (m)\"].min()\n",
        "cut_points = [hauteur_min,6,12,hauteur_max]\n",
        "labels = [\"0<h<6m\",\"6<h<12m\",\"h>12m\"] \n",
        "\n",
        "# Les 03 intervalles sont créés\n",
        "colBin = pd.cut(dfhauteursJeunes[\"hauteur (m)\"], bins=cut_points, labels=labels, include_lowest=True) \n",
        "\n",
        "dfhauteursJeunes[\"height group\"]=colBin.values\n",
        "dfhauteursJeunes.head()"
      ],
      "execution_count": null,
      "outputs": [
        {
          "output_type": "stream",
          "text": [
            "/usr/local/lib/python3.7/dist-packages/ipykernel_launcher.py:9: SettingWithCopyWarning: \n",
            "A value is trying to be set on a copy of a slice from a DataFrame.\n",
            "Try using .loc[row_indexer,col_indexer] = value instead\n",
            "\n",
            "See the caveats in the documentation: https://pandas.pydata.org/pandas-docs/stable/user_guide/indexing.html#returning-a-view-versus-a-copy\n",
            "  if __name__ == '__main__':\n"
          ],
          "name": "stderr"
        },
        {
          "output_type": "execute_result",
          "data": {
            "text/html": [
              "<div>\n",
              "<style scoped>\n",
              "    .dataframe tbody tr th:only-of-type {\n",
              "        vertical-align: middle;\n",
              "    }\n",
              "\n",
              "    .dataframe tbody tr th {\n",
              "        vertical-align: top;\n",
              "    }\n",
              "\n",
              "    .dataframe thead th {\n",
              "        text-align: right;\n",
              "    }\n",
              "</style>\n",
              "<table border=\"1\" class=\"dataframe\">\n",
              "  <thead>\n",
              "    <tr style=\"text-align: right;\">\n",
              "      <th></th>\n",
              "      <th>arrondissement</th>\n",
              "      <th>hauteur (m)</th>\n",
              "      <th>height group</th>\n",
              "    </tr>\n",
              "  </thead>\n",
              "  <tbody>\n",
              "    <tr>\n",
              "      <th>0</th>\n",
              "      <td>PARIS 7E ARRDT</td>\n",
              "      <td>5</td>\n",
              "      <td>0&lt;h&lt;6m</td>\n",
              "    </tr>\n",
              "    <tr>\n",
              "      <th>1</th>\n",
              "      <td>PARIS 7E ARRDT</td>\n",
              "      <td>8</td>\n",
              "      <td>6&lt;h&lt;12m</td>\n",
              "    </tr>\n",
              "    <tr>\n",
              "      <th>2</th>\n",
              "      <td>PARIS 7E ARRDT</td>\n",
              "      <td>10</td>\n",
              "      <td>6&lt;h&lt;12m</td>\n",
              "    </tr>\n",
              "    <tr>\n",
              "      <th>3</th>\n",
              "      <td>PARIS 7E ARRDT</td>\n",
              "      <td>8</td>\n",
              "      <td>6&lt;h&lt;12m</td>\n",
              "    </tr>\n",
              "    <tr>\n",
              "      <th>4</th>\n",
              "      <td>PARIS 17E ARRDT</td>\n",
              "      <td>0</td>\n",
              "      <td>0&lt;h&lt;6m</td>\n",
              "    </tr>\n",
              "  </tbody>\n",
              "</table>\n",
              "</div>"
            ],
            "text/plain": [
              "    arrondissement  hauteur (m) height group\n",
              "0   PARIS 7E ARRDT            5       0<h<6m\n",
              "1   PARIS 7E ARRDT            8      6<h<12m\n",
              "2   PARIS 7E ARRDT           10      6<h<12m\n",
              "3   PARIS 7E ARRDT            8      6<h<12m\n",
              "4  PARIS 17E ARRDT            0       0<h<6m"
            ]
          },
          "metadata": {
            "tags": []
          },
          "execution_count": 41
        }
      ]
    },
    {
      "cell_type": "code",
      "metadata": {
        "colab": {
          "base_uri": "https://localhost:8080/",
          "height": 700
        },
        "id": "uOgSpgW1Jd-m",
        "outputId": "a8058dd4-e4d7-4c5e-bcab-2f8a102e6b25"
      },
      "source": [
        "# Tableau de contingence entre arrondissement et les intervalles de hauteur\n",
        "dfhauteursJeunes_categ = dfhauteursJeunes[['arrondissement','height group']].pivot_table(index='arrondissement',\n",
        "                        columns='height group', aggfunc=len).sort_values(['6<h<12m', 'h>12m'],ascending=False)\n",
        "dfhauteursJeunes_categ=dfhauteursJeunes_categ.fillna(0)\n",
        "dfhauteursJeunes_categ.head(20)"
      ],
      "execution_count": null,
      "outputs": [
        {
          "output_type": "execute_result",
          "data": {
            "text/html": [
              "<div>\n",
              "<style scoped>\n",
              "    .dataframe tbody tr th:only-of-type {\n",
              "        vertical-align: middle;\n",
              "    }\n",
              "\n",
              "    .dataframe tbody tr th {\n",
              "        vertical-align: top;\n",
              "    }\n",
              "\n",
              "    .dataframe thead th {\n",
              "        text-align: right;\n",
              "    }\n",
              "</style>\n",
              "<table border=\"1\" class=\"dataframe\">\n",
              "  <thead>\n",
              "    <tr style=\"text-align: right;\">\n",
              "      <th>height group</th>\n",
              "      <th>0&lt;h&lt;6m</th>\n",
              "      <th>6&lt;h&lt;12m</th>\n",
              "      <th>h&gt;12m</th>\n",
              "    </tr>\n",
              "    <tr>\n",
              "      <th>arrondissement</th>\n",
              "      <th></th>\n",
              "      <th></th>\n",
              "      <th></th>\n",
              "    </tr>\n",
              "  </thead>\n",
              "  <tbody>\n",
              "    <tr>\n",
              "      <th>PARIS 15E ARRDT</th>\n",
              "      <td>8700</td>\n",
              "      <td>6552</td>\n",
              "      <td>1897</td>\n",
              "    </tr>\n",
              "    <tr>\n",
              "      <th>PARIS 16E ARRDT</th>\n",
              "      <td>5045</td>\n",
              "      <td>6466</td>\n",
              "      <td>4887</td>\n",
              "    </tr>\n",
              "    <tr>\n",
              "      <th>PARIS 13E ARRDT</th>\n",
              "      <td>7583</td>\n",
              "      <td>6122</td>\n",
              "      <td>3006</td>\n",
              "    </tr>\n",
              "    <tr>\n",
              "      <th>PARIS 12E ARRDT</th>\n",
              "      <td>5059</td>\n",
              "      <td>5299</td>\n",
              "      <td>2231</td>\n",
              "    </tr>\n",
              "    <tr>\n",
              "      <th>PARIS 20E ARRDT</th>\n",
              "      <td>6575</td>\n",
              "      <td>4985</td>\n",
              "      <td>3778</td>\n",
              "    </tr>\n",
              "    <tr>\n",
              "      <th>PARIS 14E ARRDT</th>\n",
              "      <td>4396</td>\n",
              "      <td>4825</td>\n",
              "      <td>2177</td>\n",
              "    </tr>\n",
              "    <tr>\n",
              "      <th>PARIS 7E ARRDT</th>\n",
              "      <td>1478</td>\n",
              "      <td>3943</td>\n",
              "      <td>3172</td>\n",
              "    </tr>\n",
              "    <tr>\n",
              "      <th>PARIS 17E ARRDT</th>\n",
              "      <td>4687</td>\n",
              "      <td>3775</td>\n",
              "      <td>2300</td>\n",
              "    </tr>\n",
              "    <tr>\n",
              "      <th>PARIS 18E ARRDT</th>\n",
              "      <td>4312</td>\n",
              "      <td>3480</td>\n",
              "      <td>2210</td>\n",
              "    </tr>\n",
              "    <tr>\n",
              "      <th>PARIS 19E ARRDT</th>\n",
              "      <td>6628</td>\n",
              "      <td>3164</td>\n",
              "      <td>3910</td>\n",
              "    </tr>\n",
              "    <tr>\n",
              "      <th>BOIS DE VINCENNES</th>\n",
              "      <td>5241</td>\n",
              "      <td>3045</td>\n",
              "      <td>3217</td>\n",
              "    </tr>\n",
              "    <tr>\n",
              "      <th>PARIS 8E ARRDT</th>\n",
              "      <td>1401</td>\n",
              "      <td>2967</td>\n",
              "      <td>2876</td>\n",
              "    </tr>\n",
              "    <tr>\n",
              "      <th>SEINE-SAINT-DENIS</th>\n",
              "      <td>7758</td>\n",
              "      <td>2278</td>\n",
              "      <td>1534</td>\n",
              "    </tr>\n",
              "    <tr>\n",
              "      <th>PARIS 11E ARRDT</th>\n",
              "      <td>1751</td>\n",
              "      <td>2250</td>\n",
              "      <td>1656</td>\n",
              "    </tr>\n",
              "    <tr>\n",
              "      <th>BOIS DE BOULOGNE</th>\n",
              "      <td>1519</td>\n",
              "      <td>1594</td>\n",
              "      <td>865</td>\n",
              "    </tr>\n",
              "    <tr>\n",
              "      <th>PARIS 10E ARRDT</th>\n",
              "      <td>862</td>\n",
              "      <td>1558</td>\n",
              "      <td>965</td>\n",
              "    </tr>\n",
              "    <tr>\n",
              "      <th>PARIS 4E ARRDT</th>\n",
              "      <td>814</td>\n",
              "      <td>1127</td>\n",
              "      <td>798</td>\n",
              "    </tr>\n",
              "    <tr>\n",
              "      <th>PARIS 5E ARRDT</th>\n",
              "      <td>546</td>\n",
              "      <td>917</td>\n",
              "      <td>898</td>\n",
              "    </tr>\n",
              "    <tr>\n",
              "      <th>PARIS 6E ARRDT</th>\n",
              "      <td>376</td>\n",
              "      <td>687</td>\n",
              "      <td>700</td>\n",
              "    </tr>\n",
              "    <tr>\n",
              "      <th>VAL-DE-MARNE</th>\n",
              "      <td>4777</td>\n",
              "      <td>676</td>\n",
              "      <td>2125</td>\n",
              "    </tr>\n",
              "  </tbody>\n",
              "</table>\n",
              "</div>"
            ],
            "text/plain": [
              "height group       0<h<6m  6<h<12m  h>12m\n",
              "arrondissement                           \n",
              "PARIS 15E ARRDT      8700     6552   1897\n",
              "PARIS 16E ARRDT      5045     6466   4887\n",
              "PARIS 13E ARRDT      7583     6122   3006\n",
              "PARIS 12E ARRDT      5059     5299   2231\n",
              "PARIS 20E ARRDT      6575     4985   3778\n",
              "PARIS 14E ARRDT      4396     4825   2177\n",
              "PARIS 7E ARRDT       1478     3943   3172\n",
              "PARIS 17E ARRDT      4687     3775   2300\n",
              "PARIS 18E ARRDT      4312     3480   2210\n",
              "PARIS 19E ARRDT      6628     3164   3910\n",
              "BOIS DE VINCENNES    5241     3045   3217\n",
              "PARIS 8E ARRDT       1401     2967   2876\n",
              "SEINE-SAINT-DENIS    7758     2278   1534\n",
              "PARIS 11E ARRDT      1751     2250   1656\n",
              "BOIS DE BOULOGNE     1519     1594    865\n",
              "PARIS 10E ARRDT       862     1558    965\n",
              "PARIS 4E ARRDT        814     1127    798\n",
              "PARIS 5E ARRDT        546      917    898\n",
              "PARIS 6E ARRDT        376      687    700\n",
              "VAL-DE-MARNE         4777      676   2125"
            ]
          },
          "metadata": {
            "tags": []
          },
          "execution_count": 42
        }
      ]
    },
    {
      "cell_type": "code",
      "metadata": {
        "colab": {
          "base_uri": "https://localhost:8080/",
          "height": 731
        },
        "id": "araL7xYTK2uF",
        "outputId": "cfd1f4a2-1fca-44aa-bd4c-a164ed1bb793"
      },
      "source": [
        "sns. set_style(\"whitegrid\")\n",
        "dfhauteursJeunes_categ.plot(kind=\"bar\", stacked=True,figsize=(16,10),color=[\"#e38e00\",\"#469536\",\"#14540d\",\"#0f1a07\"])"
      ],
      "execution_count": null,
      "outputs": [
        {
          "output_type": "execute_result",
          "data": {
            "text/plain": [
              "<matplotlib.axes._subplots.AxesSubplot at 0x7fd9731d3410>"
            ]
          },
          "metadata": {
            "tags": []
          },
          "execution_count": 43
        },
        {
          "output_type": "display_data",
          "data": {
            "image/png": "[encoded data removed]",
            "text/plain": [
              "<Figure size 1152x720 with 1 Axes>"
            ]
          },
          "metadata": {
            "tags": []
          }
        }
      ]
    }
  ]
}