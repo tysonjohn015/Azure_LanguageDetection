{
  "nbformat": 4,
  "nbformat_minor": 0,
  "metadata": {
    "colab": {
      "name": "DetectLanguage.ipynb",
      "provenance": [],
      "collapsed_sections": [],
      "mount_file_id": "1js99GfNAZY7OpfkhZ7jedYQbDlbWLyg-",
      "authorship_tag": "ABX9TyMbaNSV5aajPqxglKabxaGk",
      "include_colab_link": true
    },
    "kernelspec": {
      "name": "python3",
      "display_name": "Python 3"
    },
    "language_info": {
      "name": "python"
    }
  },
  "cells": [
    {
      "cell_type": "markdown",
      "metadata": {
        "id": "view-in-github",
        "colab_type": "text"
      },
      "source": [
        "<a href=\"https://colab.research.google.com/github/tysonjohn015/Azure_LanguageDetection/blob/main/DetectLanguage.ipynb\" target=\"_parent\"><img src=\"https://colab.research.google.com/assets/colab-badge.svg\" alt=\"Open In Colab\"/></a>"
      ]
    },
    {
      "cell_type": "code",
      "metadata": {
        "colab": {
          "base_uri": "https://localhost:8080/"
        },
        "id": "F3JAJC44Morf",
        "outputId": "8b5527c3-a4d7-41c2-a218-0046aecf3e73"
      },
      "source": [
        "!pip install python-dotenv\n",
        "\n",
        "import os, requests, uuid, json\n",
        "from dotenv import load_dotenv\n",
        "\n",
        "# Load the environment variables from the file \".env\"\n",
        "load_dotenv()\n",
        "\n",
        "# Get the api key and the endpoint for the TextAnalytics service of Azure\n",
        "subscription_key = os.getenv(\"AZURE_API_KEY\")\n",
        "endpoint = os.getenv(\"AZURE_ENDPOINT\")\n",
        "\n",
        "# Add your location, also known as region. The default is global.\n",
        "# This is required if using a Cognitive Services resource.\n",
        "location = \"global\"\n",
        "\n",
        "path = '/detect'\n",
        "constructed_url = endpoint + path\n",
        "\n",
        "params = {\n",
        "    'api-version': '3.0'\n",
        "}\n",
        "constructed_url = endpoint + path\n",
        "\n",
        "headers = {\n",
        "    'Ocp-Apim-Subscription-Key': subscription_key,\n",
        "    'Ocp-Apim-Subscription-Region': location,\n",
        "    'Content-type': 'application/json',\n",
        "    'X-ClientTraceId': str(uuid.uuid4())\n",
        "}\n",
        "\n",
        "# You can pass more than one object in body.\n",
        "body = [\n",
        "        { 'id': 1, 'text':'Ne l fin de l seclo XIX l Japon era inda çconhecido i sótico pa l mundo oucidental. Cula antroduçon de la stética japonesa, particularmente na Sposiçon Ounibersal de 1900, an Paris, l Oucidente adquiriu un apetite ansaciable pul Japon i Heiarn se tornou mundialmente coincido pula perfundidade, ouriginalidade i sinceridade de ls sous cuntos. An sous radadeiros anhos, alguns críticos, cumo George Orwell, acusórun Heiarn de trasferir sou nacionalismo i fazer l Japon parecer mais sótico, mas, cumo lhome qu oufereciu al Oucidente alguns de sous purmeiros lampeijos de l Japon pré-andustrial i de l Período Meiji, sou trabalho inda ye balioso até hoije.'},\n",
        "\t      { 'id': 2, 'text':'Schiedam is gelegen tussen Rotterdam en Vlaardingen, oorspronkelijk aan de Schie en later ook aan de Nieuwe Maas. Per 30 april 2017 had de gemeente 77.833 inwoners (bron: CBS). De stad is vooral bekend om haar jenever, de historische binnenstad met grachten, en de hoogste windmolens ter wereld.'},\n",
        "\t      { 'id': 3, 'text':'ГIурусаз батальонал, гьоркьор гIарадабиги лъун, ункъбокIон (каре) гьабун чIезарун руго. ТIаде гIарададул сачмаги гуллаги байдал, АхIмадханил бо тIурун буго. ГIумаханас цойгидал боязе тIаде кIанцIизе буюрухъ кьун буго. Гьезулги жо ккун гьечIо. Цинги живго ГIумахан кIанцIун вуго тушманасде тIаде («угъузилал рачун, дайтилал рачун, маххулъан бер баккун хунз цадахъ рачун»). Нахъе къалел ругел магIарулазда гьес гьарулеб букIун буго: «Нужеца яхI бахъе, гIолохъаби! Нилъеда данде гьал чIоларо», – ян.'},\n",
        "\t      { 'id': 4, 'text':'पतञ्जलिविरचितस्य योगसूत्रस्य एको भाष्यग्रन्थः प्रसिद्धोऽस्ति । तस्य नामास्ति व्यासभाष्यम् इति । योगसूत्राणां रहस्यं स्फुटीकर्त्तुम् अस्य भाष्यग्रन्थस्य अपयोगिता प्रामाण्यं च स्वीक्रियते । यद्यपि व्यासभाष्ये क्लिष्टताया आधिक्यमस्ति तथापि दुर्वहं नास्ति, यतो हि अस्य भाष्यस्यापि अनेके टीकाग्रन्थाः प्राप्यन्ते । वाचस्पतिमिश्रस्य तत्त्ववैशारदी “ विज्ञानभिक्षोः” “योगवार्तिकम् “ च श्रेष्ठौ टीकाग्रन्थौ स्तः । एतदतिरिक्तं हरिहरानन्द आरण्यक विरचिता एका अन्या टीका “ भास्वती” नाम्नाऽपि प्राप्यते । तत्त्ववैशारदी” विषयीकृत्य कालान्तरे राघवानन्देन “पातञ्जलयोगरहस्यम्” इति नाम्ना टीकाग्रन्थो रचितः ।'},\n",
        "\t      { 'id': 5, 'text':'അമേരിക്കൻ ഐക്യനാടുകളുടെ സെൻസസ് ബ്യൂറോയുടെ കണക്കനുസരിച്ച്, നഗരത്തിന്റെ മൊത്തം വിസ്തീർണം 11.0 ചതുരശ്ര മൈൽ (28.5 കി.മീ2) ആണ്. ഇതിൽ 9.1 ചതുരശ്ര മൈൽ ഭൂമി (23.6 km2) കരഭൂമിയും ബാക്കി 1.9 ചതുരശ്ര മൈൽ (4.9 കിമീ2) (17.25 ശതമാനം) ജലവുമാണ്.'}\n",
        "      ]\n",
        "\n",
        "# Requesting the Azure cognitive services to analyse the text\n",
        "request = requests.post(constructed_url, params=params, headers=headers, json=body)\n",
        "response = request.json()\n",
        "\n",
        "print(json.dumps(response, sort_keys=True, ensure_ascii=False, indent=4, separators=(',', ': ')))"
      ],
      "execution_count": null,
      "outputs": [
        {
          "output_type": "stream",
          "text": [
            "Requirement already satisfied: python-dotenv in /usr/local/lib/python3.7/dist-packages (0.17.1)\n",
            "[\n",
            "    {\n",
            "        \"isTranslationSupported\": true,\n",
            "        \"isTransliterationSupported\": false,\n",
            "        \"language\": \"pt\",\n",
            "        \"score\": 0.97\n",
            "    },\n",
            "    {\n",
            "        \"isTranslationSupported\": true,\n",
            "        \"isTransliterationSupported\": false,\n",
            "        \"language\": \"nl\",\n",
            "        \"score\": 1.0\n",
            "    },\n",
            "    {\n",
            "        \"isTranslationSupported\": true,\n",
            "        \"isTransliterationSupported\": true,\n",
            "        \"language\": \"sr-Cyrl\",\n",
            "        \"score\": 0.92\n",
            "    },\n",
            "    {\n",
            "        \"isTranslationSupported\": true,\n",
            "        \"isTransliterationSupported\": true,\n",
            "        \"language\": \"hi\",\n",
            "        \"score\": 1.0\n",
            "    },\n",
            "    {\n",
            "        \"isTranslationSupported\": true,\n",
            "        \"isTransliterationSupported\": true,\n",
            "        \"language\": \"ml\",\n",
            "        \"score\": 0.98\n",
            "    }\n",
            "]\n"
          ],
          "name": "stdout"
        }
      ]
    },
    {
      "cell_type": "code",
      "metadata": {
        "id": "NVexU95IFNVU"
      },
      "source": [
        ""
      ],
      "execution_count": null,
      "outputs": []
    }
  ]
}